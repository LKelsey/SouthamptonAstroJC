{
 "cells": [
  {
   "cell_type": "code",
   "execution_count": null,
   "metadata": {
    "collapsed": true
   },
   "outputs": [],
   "source": [
    "import pandas as pd\n",
    "import numpy as np\n",
    "from numpy.random import choice\n",
    "import datetime\n",
    "from datetime import datetime"
   ]
  },
  {
   "cell_type": "code",
   "execution_count": null,
   "metadata": {
    "collapsed": true
   },
   "outputs": [],
   "source": [
    "#People away or are already presenting\n",
    "away = []\n",
    "already_presenting = []"
   ]
  },
  {
   "cell_type": "code",
   "execution_count": null,
   "metadata": {
    "collapsed": true
   },
   "outputs": [],
   "source": [
    "nos = already_presenting + away\n",
    "number_to_select = 3 - len(already_presenting) #max of three people per JC"
   ]
  },
  {
   "cell_type": "code",
   "execution_count": null,
   "metadata": {
    "collapsed": true
   },
   "outputs": [],
   "source": [
    "#Read in excel file\n",
    "xls = pd.ExcelFile('JC_Schedule.xlsx')"
   ]
  },
  {
   "cell_type": "code",
   "execution_count": null,
   "metadata": {
    "collapsed": true
   },
   "outputs": [],
   "source": [
    "#Define dataframes\n",
    "papers = pd.read_excel(xls, 'Schedule')\n",
    "presenters = pd.read_excel(xls, 'Presenters')\n",
    "groups = pd.read_excel(xls, 'Groups')"
   ]
  },
  {
   "cell_type": "code",
   "execution_count": null,
   "metadata": {
    "collapsed": true
   },
   "outputs": [],
   "source": [
    "#Remove unnecessary information\n",
    "presenters = presenters.drop(['Count Intake Contribution', 'Count weighted by Intake Size', 'Group'], axis=1)\n",
    "presenters = presenters.ffill(axis=0)\n",
    "presenters = presenters.drop_duplicates()\n",
    "presenters = presenters.dropna()\n"
   ]
  },
  {
   "cell_type": "code",
   "execution_count": null,
   "metadata": {
    "collapsed": true
   },
   "outputs": [],
   "source": [
    "#Remove postdocs - not compulsory \n",
    "presenters = presenters[~presenters['Intake Year'].str.contains(\"PostDoc\", na=False)]\n",
    "presenters = presenters.reset_index()"
   ]
  },
  {
   "cell_type": "code",
   "execution_count": null,
   "metadata": {
    "collapsed": true
   },
   "outputs": [],
   "source": [
    "#Weight\n",
    "presenters['Weight'] = 1/presenters['Count Papers']\n",
    "presenters = presenters.replace(np.inf, 2.0) #put higher, non inf, weight to those who have not presented "
   ]
  },
  {
   "cell_type": "code",
   "execution_count": null,
   "metadata": {},
   "outputs": [],
   "source": [
    "#Get weights\n",
    "if len(nos) > 0:\n",
    "    pattern = '|'.join(nos)\n",
    "else:\n",
    "    pattern = ' '\n",
    "PT_ECS = '|'.join(['PT', 'ECS'])\n",
    "presenters['Weight'][presenters['Name'].str.contains(pattern) == True] = 0.0 #People away or already presenting\n",
    "presenters['Weight'][presenters['Notes'].str.contains(PT_ECS) == True] = 0.5*presenters['Weight'] #Weight part-time and ECS more fairly \n",
    "\n",
    "#ignore first years if before summer of their first year (June) - up to them to present\n",
    "presenters['First summer'] = '01/06/'+(presenters['Intake Year']+1).astype(str)\n",
    "format_str = '%d/%m/%Y'\n",
    "b4_summer = []\n",
    "for i in presenters['First summer']:\n",
    "    date_obj = datetime.strptime(i, format_str)\n",
    "    if datetime.today()<date_obj:\n",
    "        b4_summer.append(True)\n",
    "    else:\n",
    "        b4_summer.append(False)\n",
    "presenters['Before summer'] = b4_summer\n",
    "presenters['Weight'][presenters['Before summer']==True] = 0.0 \n",
    "presenters = presenters.drop(['First summer', 'Before summer'], axis=1)"
   ]
  },
  {
   "cell_type": "code",
   "execution_count": null,
   "metadata": {},
   "outputs": [],
   "source": [
    "presenters"
   ]
  },
  {
   "cell_type": "code",
   "execution_count": null,
   "metadata": {},
   "outputs": [],
   "source": [
    "presenters_chosen = []\n",
    "#loop over the number that need to be chosen so can do probability by weight and not get duplicates\n",
    "for i in range(number_to_select):\n",
    "    #probability\n",
    "    presenters['Probability_{}'.format(i)] = presenters['Weight']/(presenters['Weight'].sum())\n",
    "    #draw at random\n",
    "    draw_1 = choice(presenters['Name'], 1, p=presenters['Probability_{}'.format(i)])\n",
    "    #make list of presenters\n",
    "    presenters_chosen.append(draw_1[0])\n",
    "    #remove person selected\n",
    "    presenters = presenters.drop(presenters[presenters['Name']==draw_1[0]].index)\n",
    "    print(presenters)"
   ]
  },
  {
   "cell_type": "code",
   "execution_count": null,
   "metadata": {},
   "outputs": [],
   "source": [
    "print('Already presenting: {}'.format(already_presenting))\n",
    "print('First choice presenters: {}'.format(presenters_chosen))"
   ]
  }
 ],
 "metadata": {
  "kernelspec": {
   "display_name": "Python 3",
   "language": "python",
   "name": "python3"
  },
  "language_info": {
   "codemirror_mode": {
    "name": "ipython",
    "version": 3
   },
   "file_extension": ".py",
   "mimetype": "text/x-python",
   "name": "python",
   "nbconvert_exporter": "python",
   "pygments_lexer": "ipython3",
   "version": "3.6.8"
  }
 },
 "nbformat": 4,
 "nbformat_minor": 2
}
